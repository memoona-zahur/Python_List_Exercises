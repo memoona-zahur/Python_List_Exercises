{
 "cells": [
  {
   "cell_type": "markdown",
   "metadata": {},
   "source": [
    "                                   Chapter 4\n",
    "                                     Loops"
   ]
  },
  {
   "cell_type": "code",
   "execution_count": 10,
   "metadata": {},
   "outputs": [
    {
     "name": "stdout",
     "output_type": "stream",
     "text": [
      "['Apple', 'Cherry', 'Grapes']\n"
     ]
    }
   ],
   "source": [
    "fruits: list = [\"Apple\", \"Cherry\", \"Grapes\"]\n",
    "print(fruits)"
   ]
  },
  {
   "cell_type": "code",
   "execution_count": 2,
   "metadata": {},
   "outputs": [
    {
     "name": "stdout",
     "output_type": "stream",
     "text": [
      "Apple\n",
      "Cherry\n",
      "Grapes\n"
     ]
    }
   ],
   "source": [
    "for x in fruits:\n",
    "    print(x)"
   ]
  },
  {
   "cell_type": "code",
   "execution_count": 3,
   "metadata": {},
   "outputs": [
    {
     "name": "stdout",
     "output_type": "stream",
     "text": [
      "APPLE\n",
      "CHERRY\n",
      "GRAPES\n"
     ]
    }
   ],
   "source": [
    "for y in fruits:\n",
    "    print(y.upper())"
   ]
  },
  {
   "cell_type": "code",
   "execution_count": 11,
   "metadata": {},
   "outputs": [
    {
     "name": "stdout",
     "output_type": "stream",
     "text": [
      "['Apple', 'Cherry', 'Grapes']\n",
      "Cherry\n",
      "['Apple', 'Grapes']\n"
     ]
    }
   ],
   "source": [
    "for x in fruits:\n",
    "    if x == \"Cherry\":\n",
    "        fruits.remove(x)\n",
    "        print(x)\n",
    "    print(fruits)"
   ]
  },
  {
   "cell_type": "markdown",
   "metadata": {},
   "source": [
    "Avoid Indentation Error"
   ]
  },
  {
   "cell_type": "code",
   "execution_count": 12,
   "metadata": {},
   "outputs": [
    {
     "name": "stdout",
     "output_type": "stream",
     "text": [
      "Apple\n",
      "Memoona\n",
      "Grapes\n",
      "Memoona\n",
      "Zahur\n"
     ]
    }
   ],
   "source": [
    "# The methods which return something can be used in the print statement.\n",
    "for x in fruits:\n",
    "    print(x)\n",
    "    print(\"Memoona\")\n",
    "print(\"Zahur\")"
   ]
  },
  {
   "cell_type": "markdown",
   "metadata": {},
   "source": [
    "range() function"
   ]
  },
  {
   "cell_type": "code",
   "execution_count": 13,
   "metadata": {},
   "outputs": [
    {
     "name": "stdout",
     "output_type": "stream",
     "text": [
      "2- Memoona\n",
      "4- Memoona\n",
      "6- Memoona\n",
      "8- Memoona\n"
     ]
    }
   ],
   "source": [
    "# range(start(by default:- 0), end, step(by default:- 1))\n",
    "# range() function generates the random numbers.\n",
    "# last(end) value is not included.\n",
    "# it runs from (start) value to the (end - 1) value, if step is given then it works according to the step.\n",
    "for i in range(2, 10, 2):\n",
    "    print(f\"{i}- Memoona\")"
   ]
  },
  {
   "cell_type": "code",
   "execution_count": 14,
   "metadata": {},
   "outputs": [
    {
     "name": "stdout",
     "output_type": "stream",
     "text": [
      "10- Memoona\n",
      "9- Memoona\n",
      "8- Memoona\n",
      "7- Memoona\n",
      "6- Memoona\n",
      "5- Memoona\n",
      "4- Memoona\n",
      "3- Memoona\n",
      "2- Memoona\n",
      "1- Memoona\n"
     ]
    }
   ],
   "source": [
    "for i in range(10, 0, -1):\n",
    "    print(f\"{i}- Memoona\")"
   ]
  },
  {
   "cell_type": "markdown",
   "metadata": {},
   "source": [
    "Type Casting"
   ]
  },
  {
   "cell_type": "code",
   "execution_count": 15,
   "metadata": {},
   "outputs": [
    {
     "name": "stdout",
     "output_type": "stream",
     "text": [
      "[0, 1, 2, 3, 4, 5, 6, 7, 8, 9, 10]\n"
     ]
    }
   ],
   "source": [
    "# conversion of one data type to another data type\n",
    "# int()     float()     str()     bool()\n",
    "# list()    tuple()     set()     dic()\n",
    "list1: list = list(range(0, 11, 1))\n",
    "print(list1)"
   ]
  },
  {
   "cell_type": "code",
   "execution_count": 18,
   "metadata": {},
   "outputs": [
    {
     "name": "stdout",
     "output_type": "stream",
     "text": [
      "[1, 2, 3, 4, 5, 6, 7, 8, 9, 10]\n",
      "[1, 4, 9, 16, 25, 36, 49, 64, 81, 100]\n"
     ]
    }
   ],
   "source": [
    "numbers: list = [1, 2, 3, 4, 5, 6, 7, 8, 9, 10]\n",
    "squares: list = []\n",
    "for x in numbers:\n",
    "    x = x**2\n",
    "    squares.append(x)\n",
    "print(numbers)\n",
    "print(squares)"
   ]
  }
 ],
 "metadata": {
  "kernelspec": {
   "display_name": "Python 3",
   "language": "python",
   "name": "python3"
  },
  "language_info": {
   "codemirror_mode": {
    "name": "ipython",
    "version": 3
   },
   "file_extension": ".py",
   "mimetype": "text/x-python",
   "name": "python",
   "nbconvert_exporter": "python",
   "pygments_lexer": "ipython3",
   "version": "3.12.4"
  },
  "orig_nbformat": 4
 },
 "nbformat": 4,
 "nbformat_minor": 2
}
