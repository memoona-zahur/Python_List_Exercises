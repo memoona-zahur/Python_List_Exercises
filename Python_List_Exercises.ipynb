{
 "cells": [
  {
   "cell_type": "code",
   "execution_count": 1,
   "metadata": {},
   "outputs": [
    {
     "name": "stdout",
     "output_type": "stream",
     "text": [
      "Rimsha\n",
      "Esha\n",
      "Samreen\n",
      "Laiba\n",
      "Areesha\n"
     ]
    }
   ],
   "source": [
    "# Names\n",
    "names: list = [\"Rimsha\", \"Esha\", \"Samreen\", \"Laiba\", \"Areesha\"]\n",
    "print(names[0])\n",
    "print(names[1])\n",
    "print(names[2])\n",
    "print(names[3])\n",
    "print(names[4])"
   ]
  },
  {
   "cell_type": "code",
   "execution_count": 2,
   "metadata": {},
   "outputs": [
    {
     "name": "stdout",
     "output_type": "stream",
     "text": [
      "Hey! Rimsha, I hope you are enjoying the coding journey.\n",
      "Hey! Esha, I hope you are enjoying the coding journey.\n",
      "Hey! Samreen, I hope you are enjoying the coding journey.\n",
      "Hey! Laiba, I hope you are enjoying the coding journey.\n",
      "Hey! Areesha, I hope you are enjoying the coding journey.\n"
     ]
    }
   ],
   "source": [
    "# Greetings\n",
    "names: list = [\"Rimsha\", \"Esha\", \"Samreen\", \"Laiba\", \"Areesha\"]\n",
    "print(f\"Hey! {names[0]}, I hope you are enjoying the coding journey.\")\n",
    "print(f\"Hey! {names[1]}, I hope you are enjoying the coding journey.\")\n",
    "print(f\"Hey! {names[2]}, I hope you are enjoying the coding journey.\")\n",
    "print(f\"Hey! {names[3]}, I hope you are enjoying the coding journey.\")\n",
    "print(f\"Hey! {names[4]}, I hope you are enjoying the coding journey.\")"
   ]
  },
  {
   "cell_type": "code",
   "execution_count": 1,
   "metadata": {},
   "outputs": [
    {
     "name": "stdout",
     "output_type": "stream",
     "text": [
      "I would love to drive a Ferrari, known for its high-performance sports cars and luxurious design.\n",
      "I would enjoy cruising in a Lamborghini, famous for its aggressive styling and powerful engines.\n",
      "I would like to own a Porsche, celebrated for its engineering excellence and iconic sports cars.\n",
      "I dream of experiencing a Bugatti, renowned for producing some of the fastest and most exclusive cars in the world.\n",
      "I would like to explore the future in a Tesla, at the forefront of electric vehicle innovation and autonomous driving technology.\n"
     ]
    }
   ],
   "source": [
    "# Your Own List\n",
    "cars: list = [\"Ferrari\", \"Lamborghini\", \"Porsche\", \"Bugatti\", \"Tesla\"]\n",
    "print(f\"I would love to drive a {cars[0]}, known for its high-performance sports cars and luxurious design.\")\n",
    "print(f\"I would enjoy cruising in a {cars[1]}, famous for its aggressive styling and powerful engines.\")\n",
    "print(f\"I would like to own a {cars[2]}, celebrated for its engineering excellence and iconic sports cars.\")\n",
    "print(f\"I dream of experiencing a {cars[3]}, renowned for producing some of the fastest and most exclusive cars in the world.\")\n",
    "print(f\"I would like to explore the future in a {cars[4]}, at the forefront of electric vehicle innovation and autonomous driving technology.\")"
   ]
  },
  {
   "cell_type": "code",
   "execution_count": 6,
   "metadata": {},
   "outputs": [
    {
     "name": "stdout",
     "output_type": "stream",
     "text": [
      "Hey Andrew Ng! I would be honored to have you join me for dinner.\n",
      "Hey Yoshua Bengio! I would be honored to have you join me for dinner.\n",
      "Hey Geoffrey Hinton! I would be honored to have you join me for dinner.\n",
      "Hey Tony Robbins! I would be honored to have you join me for dinner.\n",
      "Hey Muniba Mazari! I would be honored to have you join me for dinner.\n"
     ]
    }
   ],
   "source": [
    "# Guest List\n",
    "guests: list = [\"Andrew Ng\", \"Yoshua Bengio\", \"Geoffrey Hinton\", \"Tony Robbins\", \"Muniba Mazari\"]\n",
    "print(f\"Hey {guests[0]}! I would be honored to have you join me for dinner.\")\n",
    "print(f\"Hey {guests[1]}! I would be honored to have you join me for dinner.\")\n",
    "print(f\"Hey {guests[2]}! I would be honored to have you join me for dinner.\")\n",
    "print(f\"Hey {guests[3]}! I would be honored to have you join me for dinner.\")\n",
    "print(f\"Hey {guests[4]}! I would be honored to have you join me for dinner.\")"
   ]
  },
  {
   "cell_type": "code",
   "execution_count": 1,
   "metadata": {},
   "outputs": [
    {
     "name": "stdout",
     "output_type": "stream",
     "text": [
      "Hey Andrew Ng! I would be honored to have you join me for dinner.\n",
      "Hey Yoshua Bengio! I would be honored to have you join me for dinner.\n",
      "Hey Geoffrey Hinton! I would be honored to have you join me for dinner.\n",
      "Hey Tony Robbins! I would be honored to have you join me for dinner.\n",
      "Hey Muniba Mazari! I would be honored to have you join me for dinner.\n",
      "\n",
      "Unfortunately, Yoshua Bengio can't make it to the dinner.\n",
      "\n",
      "Hey Andrew Ng! I would be honored to have you join me for dinner.\n",
      "Hey Andrej Karpathy! I would be honored to have you join me for dinner.\n",
      "Hey Geoffrey Hinton! I would be honored to have you join me for dinner.\n",
      "Hey Tony Robbins! I would be honored to have you join me for dinner.\n",
      "Hey Muniba Mazari! I would be honored to have you join me for dinner.\n"
     ]
    }
   ],
   "source": [
    "# Changing Guest List\n",
    "guests: list = [\"Andrew Ng\", \"Yoshua Bengio\", \"Geoffrey Hinton\", \"Tony Robbins\", \"Muniba Mazari\"]\n",
    "print(f\"Hey {guests[0]}! I would be honored to have you join me for dinner.\")\n",
    "print(f\"Hey {guests[1]}! I would be honored to have you join me for dinner.\")\n",
    "print(f\"Hey {guests[2]}! I would be honored to have you join me for dinner.\")\n",
    "print(f\"Hey {guests[3]}! I would be honored to have you join me for dinner.\")\n",
    "print(f\"Hey {guests[4]}! I would be honored to have you join me for dinner.\")\n",
    "\n",
    "print(f\"\\nUnfortunately, {guests[1]} can't make it to the dinner.\\n\")\n",
    "\n",
    "guests[1] = \"Andrej Karpathy\"\n",
    "\n",
    "print(f\"Hey {guests[0]}! I would be honored to have you join me for dinner.\")\n",
    "print(f\"Hey {guests[1]}! I would be honored to have you join me for dinner.\")\n",
    "print(f\"Hey {guests[2]}! I would be honored to have you join me for dinner.\")\n",
    "print(f\"Hey {guests[3]}! I would be honored to have you join me for dinner.\")\n",
    "print(f\"Hey {guests[4]}! I would be honored to have you join me for dinner.\")"
   ]
  },
  {
   "cell_type": "code",
   "execution_count": 2,
   "metadata": {},
   "outputs": [
    {
     "name": "stdout",
     "output_type": "stream",
     "text": [
      "\n",
      "Good News! I found a bigger table, so we can invite more guests.\n",
      "\n",
      "So now, here are all the invited guests.\n",
      "\n",
      "Hey Albert Einstein! I would be honored to have you join me for dinner.\n",
      "Hey Andrew Ng! I would be honored to have you join me for dinner.\n",
      "Hey Andrej Karpathy! I would be honored to have you join me for dinner.\n",
      "Hey Isaac Newton! I would be honored to have you join me for dinner.\n",
      "Hey Geoffrey Hinton! I would be honored to have you join me for dinner.\n",
      "Hey Tony Robbins! I would be honored to have you join me for dinner.\n",
      "Hey Muniba Mazari! I would be honored to have you join me for dinner.\n",
      "Hey Marie Curie! I would be honored to have you join me for dinner.\n"
     ]
    }
   ],
   "source": [
    "# More Guests\n",
    "guests: list = [\"Andrew Ng\", \"Andrej Karpathy\", \"Geoffrey Hinton\", \"Tony Robbins\", \"Muniba Mazari\"]\n",
    "\n",
    "print(f\"\\nGood News! I found a bigger table, so we can invite more guests.\\n\")\n",
    "\n",
    "guests.insert(0, \"Albert Einstein\")\n",
    "guests.insert(3, \"Isaac Newton\")\n",
    "guests.append(\"Marie Curie\")\n",
    "\n",
    "print(\"So now, here are all the invited guests.\\n\")\n",
    "\n",
    "print(f\"Hey {guests[0]}! I would be honored to have you join me for dinner.\")\n",
    "print(f\"Hey {guests[1]}! I would be honored to have you join me for dinner.\")\n",
    "print(f\"Hey {guests[2]}! I would be honored to have you join me for dinner.\")\n",
    "print(f\"Hey {guests[3]}! I would be honored to have you join me for dinner.\")\n",
    "print(f\"Hey {guests[4]}! I would be honored to have you join me for dinner.\")\n",
    "print(f\"Hey {guests[5]}! I would be honored to have you join me for dinner.\")\n",
    "print(f\"Hey {guests[6]}! I would be honored to have you join me for dinner.\")\n",
    "print(f\"Hey {guests[7]}! I would be honored to have you join me for dinner.\")"
   ]
  },
  {
   "cell_type": "code",
   "execution_count": 1,
   "metadata": {},
   "outputs": [
    {
     "name": "stdout",
     "output_type": "stream",
     "text": [
      "Unfortunately, I can only invite two people for dinner.\n",
      "\n",
      "Sorry! Marie Curie, I can't invite you to the dinner.\n",
      "Sorry! Muniba Mazari, I can't invite you to the dinner.\n",
      "Sorry! Tony Robbins, I can't invite you to the dinner.\n",
      "Sorry! Geoffrey Hinton, I can't invite you to the dinner.\n",
      "Sorry! Isaac Newton, I can't invite you to the dinner.\n",
      "Sorry! Andrej Karpathy, I can't invite you to the dinner.\n",
      "\n",
      "Hey! dear Albert Einstein, you are still invited to the dinner.\n",
      "\n",
      "Hey! dear Andrew Ng, you are still invited to the dinner.\n",
      "\n",
      "The final guest list: []\n"
     ]
    }
   ],
   "source": [
    "# Shrinking Guest List\n",
    "guests: list = [\"Albert Einstein\", \"Andrew Ng\", \"Andrej Karpathy\", \"Isaac Newton\", \"Geoffrey Hinton\", \"Tony Robbins\", \"Muniba Mazari\", \"Marie Curie\"]\n",
    "\n",
    "print(\"Unfortunately, I can only invite two people for dinner.\\n\")\n",
    "\n",
    "while len(guests) > 2:\n",
    "    removed_guest = guests.pop()\n",
    "    print(f\"Sorry! {removed_guest}, I can't invite you to the dinner.\")\n",
    "\n",
    "for person in guests:\n",
    "    print(f\"\\nHey! dear {person}, you are still invited to the dinner.\")\n",
    "\n",
    "del guests[1]\n",
    "del guests[0]\n",
    "\n",
    "print(f\"\\nThe final guest list: {guests}\")"
   ]
  },
  {
   "cell_type": "code",
   "execution_count": 10,
   "metadata": {},
   "outputs": [
    {
     "name": "stdout",
     "output_type": "stream",
     "text": [
      "The list in Original Order:\n",
      "['Canada', 'Russia', 'Norway', 'Iceland', 'USA', 'Sweden', 'Japan']\n",
      "\n",
      "The list in Alphabetical Order:\n",
      "['Canada', 'Iceland', 'Japan', 'Norway', 'Russia', 'Sweden', 'USA']\n",
      "\n",
      "Original Order of the list is maintained:\n",
      "['Canada', 'Russia', 'Norway', 'Iceland', 'USA', 'Sweden', 'Japan']\n",
      "\n",
      "The list in Reverse-Alphabetical Order:\n",
      "['USA', 'Sweden', 'Russia', 'Norway', 'Japan', 'Iceland', 'Canada']\n",
      "\n",
      "Original Order of the list is still maintained:\n",
      "['Canada', 'Russia', 'Norway', 'Iceland', 'USA', 'Sweden', 'Japan']\n",
      "\n",
      "Now the list is printed in the Reversed Order:\n",
      "['Japan', 'Sweden', 'USA', 'Iceland', 'Norway', 'Russia', 'Canada']\n",
      "\n",
      "The list is back to its original order:\n",
      "['Canada', 'Russia', 'Norway', 'Iceland', 'USA', 'Sweden', 'Japan']\n",
      "\n",
      "Sorted List:\n",
      "['Canada', 'Iceland', 'Japan', 'Norway', 'Russia', 'Sweden', 'USA']\n",
      "\n",
      "Now the order of the list is changed to Reversed Sorted List:\n",
      "['USA', 'Sweden', 'Russia', 'Norway', 'Japan', 'Iceland', 'Canada']\n"
     ]
    }
   ],
   "source": [
    "# Seeing the World\n",
    "places: list = [\"Canada\", \"Russia\", \"Norway\", \"Iceland\", \"USA\", \"Sweden\", \"Japan\"]\n",
    "print(f\"The list in Original Order:\\n{places}\")\n",
    "\n",
    "print(f\"\\nThe list in Alphabetical Order:\\n{sorted(places)}\")\n",
    "\n",
    "print(f\"\\nOriginal Order of the list is maintained:\\n{places}\")\n",
    "\n",
    "print(f\"\\nThe list in Reverse-Alphabetical Order:\\n{sorted(places, reverse = True)}\")\n",
    "\n",
    "print(f\"\\nOriginal Order of the list is still maintained:\\n{places}\")\n",
    "\n",
    "places.reverse()\n",
    "print(f\"\\nNow the list is printed in the Reversed Order:\\n{places}\")\n",
    "\n",
    "places.reverse()\n",
    "print(f\"\\nThe list is back to its original order:\\n{places}\")\n",
    "\n",
    "places.sort()\n",
    "print(f\"\\nSorted List:\\n{places}\")\n",
    "\n",
    "places.sort(reverse=True)\n",
    "print(f\"\\nNow the order of the list is changed to Reversed Sorted List:\\n{places}\")"
   ]
  },
  {
   "cell_type": "code",
   "execution_count": 20,
   "metadata": {},
   "outputs": [
    {
     "name": "stdout",
     "output_type": "stream",
     "text": [
      "['Germany', 'America', 'Turkey', 'Canada', 'Malaysia']\n",
      "\n",
      "After Append:\n",
      "['Germany', 'America', 'Turkey', 'Canada', 'Malaysia', 'France']\n",
      "\n",
      "After Extend:\n",
      "['Germany', 'America', 'Turkey', 'Canada', 'Malaysia', 'France', 'China', 'Brazil', 'India']\n",
      "\n",
      "After Insert:\n",
      "['Germany', 'America', 'Turkey', 'Canada', 'Malaysia', 'France', 'Pakistan', 'China', 'Brazil', 'India']\n",
      "\n",
      "After Remove:\n",
      "['Germany', 'America', 'Turkey', 'Canada', 'Malaysia', 'France', 'Pakistan', 'Brazil', 'India']\n",
      "\n",
      "After Pop:\n",
      "['Germany', 'America', 'Turkey', 'Canada', 'Malaysia', 'France', 'Pakistan', 'Brazil']\n",
      "The name of the removed last country is: India\n",
      "\n",
      "After popping the item at index 4:\n",
      "['Germany', 'America', 'Turkey', 'Canada', 'France', 'Pakistan', 'Brazil']\n",
      "The name of the removed country at index 4 is: Malaysia\n",
      "\n",
      "The index of Canada is: 3\n",
      "\n",
      "Number of times the Turkey is present in the list is: 1\n",
      "\n",
      "After Reversing the list:\n",
      "['Brazil', 'Pakistan', 'France', 'Canada', 'Turkey', 'America', 'Germany']\n",
      "\n",
      "After Sorting in Alphabetical Order:\n",
      "['America', 'Brazil', 'Canada', 'France', 'Germany', 'Pakistan', 'Turkey']\n",
      "\n",
      "In Descending Order, the list is:\n",
      "['Turkey', 'Pakistan', 'Germany', 'France', 'Canada', 'Brazil', 'America']\n",
      "\n",
      "Copy of the list:\n",
      "['Turkey', 'Pakistan', 'Germany', 'France', 'Canada', 'Brazil', 'America']\n",
      "\n",
      "Original List After Clearing:[]\n",
      "\n",
      "Copy of the list is unchanged:\n",
      "['Turkey', 'Pakistan', 'Germany', 'France', 'Canada', 'Brazil', 'America']\n",
      "\n",
      "After del(), the list is:\n",
      "['Turkey', 'Pakistan', 'Germany', 'Canada', 'Brazil', 'America']\n",
      "\n",
      "The length of the list is: 6\n"
     ]
    }
   ],
   "source": [
    "# Every Function\n",
    "countries: list = [\"Germany\", \"America\", \"Turkey\", \"Canada\", \"Malaysia\"]\n",
    "print(countries)\n",
    "\n",
    " # append()\n",
    "countries.append(\"France\")\n",
    "print(f\"\\nAfter Append:\\n{countries}\")\n",
    "\n",
    " #extend()\n",
    "more_countries: list = [\"China\", \"Brazil\", \"India\"]\n",
    "countries.extend(more_countries)\n",
    "print(f\"\\nAfter Extend:\\n{countries}\")\n",
    "\n",
    " #insert()\n",
    "countries.insert(6, \"Pakistan\")\n",
    "print(f\"\\nAfter Insert:\\n{countries}\")\n",
    "\n",
    " #remove()\n",
    "countries.remove(\"China\")\n",
    "print(f\"\\nAfter Remove:\\n{countries}\")\n",
    "\n",
    " #pop()\n",
    "last_country = countries.pop()\n",
    "print(f\"\\nAfter Pop:\\n{countries}\")\n",
    "print(f\"The name of the removed last country is: {last_country}\")\n",
    "\n",
    "removed_country = countries.pop(4)\n",
    "print(f\"\\nAfter popping the item at index 4:\\n{countries}\")\n",
    "print(f\"The name of the removed country at index 4 is: {removed_country}\")\n",
    "\n",
    " #index()\n",
    "index_of_canada = countries.index(\"Canada\")\n",
    "print(f\"\\nThe index of Canada is: {index_of_canada}\")\n",
    "\n",
    " #count()\n",
    "count_of_turkey = countries.count(\"Turkey\")\n",
    "print(f\"\\nNumber of times the Turkey is present in the list is: {count_of_turkey}\")\n",
    "\n",
    " #reverse()\n",
    "countries.reverse()\n",
    "print(f\"\\nAfter Reversing the list:\\n{countries}\")\n",
    "\n",
    " #sort()\n",
    "countries.sort()\n",
    "print(f\"\\nAfter Sorting in Alphabetical Order:\\n{countries}\")\n",
    "countries.sort(reverse=True)\n",
    "print(f\"\\nIn Descending Order, the list is:\\n{countries}\")\n",
    "\n",
    " #copy()\n",
    "countries_copy = countries.copy()\n",
    "print(f\"\\nCopy of the list:\\n{countries_copy}\")\n",
    "\n",
    " #clear()\n",
    "countries.clear()\n",
    "print(f\"\\nOriginal List After Clearing:{countries}\")\n",
    "\n",
    " #Confirm the Copy of the list is unaffected\n",
    "print(f\"\\nCopy of the list is unchanged:\\n{countries_copy}\")\n",
    "\n",
    " #del()\n",
    "del countries_copy[3]\n",
    "print(f\"\\nAfter del(), the list is:\\n{countries_copy}\")\n",
    "\n",
    " #len()\n",
    "list_length = len(countries_copy)\n",
    "print(f\"\\nThe length of the list is: {list_length}\")"
   ]
  },
  {
   "cell_type": "code",
   "execution_count": 26,
   "metadata": {},
   "outputs": [
    {
     "name": "stdout",
     "output_type": "stream",
     "text": [
      "\n",
      "The names of the beautiful places are given below:\n",
      "Hunza Valley\n",
      "Swat Valley\n",
      "Neelum Valley\n",
      "Fairy Meadows\n",
      "\n",
      "Attempting to access the index 5 gives an IndexError because this index is out of the range for the list.\n",
      "\n",
      "The correct index is 4. Now access the value from this index.\n",
      "The value at index 4 is:\n",
      "Skardu\n"
     ]
    }
   ],
   "source": [
    "# Intensional Error\n",
    "beautiful_places: list = [\"Hunza Valley\", \"Swat Valley\", \"Neelum Valley\", \"Fairy Meadows\", \"Skardu\"]\n",
    "print(\"\\nThe names of the beautiful places are given below:\")\n",
    "print(beautiful_places[0])\n",
    "print(beautiful_places[1])\n",
    "print(beautiful_places[2])\n",
    "print(beautiful_places[3])\n",
    "\n",
    " #Intentional Error: Attempt to access an index that is out of the range\n",
    "print(\"\\nAttempting to access the index 5 gives an IndexError because this index is out of the range for the list.\")\n",
    "# print(beautiful_places[5])       # This will cause an IndexError\n",
    "\n",
    "print(\"\\nThe correct index is 4. Now access the value from this index.\")\n",
    "print(\"The value at index 4 is:\")\n",
    "print(beautiful_places[4])"
   ]
  }
 ],
 "metadata": {
  "kernelspec": {
   "display_name": "Python 3",
   "language": "python",
   "name": "python3"
  },
  "language_info": {
   "codemirror_mode": {
    "name": "ipython",
    "version": 3
   },
   "file_extension": ".py",
   "mimetype": "text/x-python",
   "name": "python",
   "nbconvert_exporter": "python",
   "pygments_lexer": "ipython3",
   "version": "3.12.4"
  },
  "orig_nbformat": 4
 },
 "nbformat": 4,
 "nbformat_minor": 2
}
